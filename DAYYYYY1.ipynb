{
 "cells": [
  {
   "cell_type": "code",
   "execution_count": null,
   "id": "7afe0310",
   "metadata": {},
   "outputs": [],
   "source": []
  },
  {
   "cell_type": "code",
   "execution_count": null,
   "id": "870d2bcc",
   "metadata": {},
   "outputs": [],
   "source": [
    "DAY1"
   ]
  },
  {
   "cell_type": "code",
   "execution_count": null,
   "id": "0e78b34f",
   "metadata": {},
   "outputs": [],
   "source": []
  },
  {
   "cell_type": "markdown",
   "id": "0e8af489",
   "metadata": {},
   "source": [
    "COMMENTS AND HEADING\n",
    "---"
   ]
  },
  {
   "cell_type": "code",
   "execution_count": null,
   "id": "24779d44",
   "metadata": {},
   "outputs": [],
   "source": [
    "print('i am fine')\n",
    "\n"
   ]
  },
  {
   "cell_type": "code",
   "execution_count": null,
   "id": "94a04c96",
   "metadata": {},
   "outputs": [],
   "source": [
    "print('i am fine') #first line"
   ]
  },
  {
   "cell_type": "code",
   "execution_count": null,
   "id": "2a6d12c0",
   "metadata": {},
   "outputs": [],
   "source": [
    "# is used to comment single line \n",
    "whiles '''  ''' is used to comment multiple line of codes"
   ]
  },
  {
   "cell_type": "code",
   "execution_count": 2,
   "id": "ded87167",
   "metadata": {
    "scrolled": true
   },
   "outputs": [
    {
     "data": {
      "text/plain": [
       "\" PRINT('I AM A GOOD BOY') \""
      ]
     },
     "execution_count": 2,
     "metadata": {},
     "output_type": "execute_result"
    }
   ],
   "source": [
    "''' PRINT('I AM A GOOD BOY') '''"
   ]
  },
  {
   "cell_type": "code",
   "execution_count": null,
   "id": "5fd6bcde",
   "metadata": {},
   "outputs": [],
   "source": [
    "''' PRINT('I AM A GOOD BOY') ''' \n",
    "THE LINE ABOVE WONT RUN"
   ]
  },
  {
   "cell_type": "markdown",
   "id": "cc781364",
   "metadata": {},
   "source": [
    "DATA TYPES\n",
    "="
   ]
  },
  {
   "cell_type": "code",
   "execution_count": 3,
   "id": "2c113c22",
   "metadata": {},
   "outputs": [
    {
     "data": {
      "text/plain": [
       "10"
      ]
     },
     "execution_count": 3,
     "metadata": {},
     "output_type": "execute_result"
    }
   ],
   "source": [
    "10"
   ]
  },
  {
   "cell_type": "code",
   "execution_count": 4,
   "id": "d99fe5d9",
   "metadata": {},
   "outputs": [
    {
     "data": {
      "text/plain": [
       "int"
      ]
     },
     "execution_count": 4,
     "metadata": {},
     "output_type": "execute_result"
    }
   ],
   "source": [
    "type(10)"
   ]
  },
  {
   "cell_type": "code",
   "execution_count": null,
   "id": "f7af5ea8",
   "metadata": {},
   "outputs": [],
   "source": []
  },
  {
   "cell_type": "code",
   "execution_count": 5,
   "id": "d82f23ca",
   "metadata": {},
   "outputs": [
    {
     "data": {
      "text/plain": [
       "float"
      ]
     },
     "execution_count": 5,
     "metadata": {},
     "output_type": "execute_result"
    }
   ],
   "source": [
    "type(15.37)"
   ]
  },
  {
   "cell_type": "code",
   "execution_count": null,
   "id": "b44247a5",
   "metadata": {},
   "outputs": [],
   "source": []
  },
  {
   "cell_type": "code",
   "execution_count": 6,
   "id": "a73ca462",
   "metadata": {},
   "outputs": [
    {
     "data": {
      "text/plain": [
       "str"
      ]
     },
     "execution_count": 6,
     "metadata": {},
     "output_type": "execute_result"
    }
   ],
   "source": [
    "type('kingAJ')"
   ]
  },
  {
   "cell_type": "code",
   "execution_count": null,
   "id": "c607bc58",
   "metadata": {},
   "outputs": [],
   "source": []
  },
  {
   "cell_type": "code",
   "execution_count": 7,
   "id": "bad6b0d6",
   "metadata": {},
   "outputs": [
    {
     "data": {
      "text/plain": [
       "[1, 3, 2, 5, 5, 5, 3, 3]"
      ]
     },
     "execution_count": 7,
     "metadata": {},
     "output_type": "execute_result"
    }
   ],
   "source": [
    "A=[1,3,2,5,5,5,3,3]\n",
    "A"
   ]
  },
  {
   "cell_type": "code",
   "execution_count": 8,
   "id": "31d90979",
   "metadata": {},
   "outputs": [
    {
     "data": {
      "text/plain": [
       "list"
      ]
     },
     "execution_count": 8,
     "metadata": {},
     "output_type": "execute_result"
    }
   ],
   "source": [
    "A=[1,3,2,5,5,5,3,3]\n",
    "type(A)"
   ]
  },
  {
   "cell_type": "code",
   "execution_count": null,
   "id": "68f38f68",
   "metadata": {},
   "outputs": [],
   "source": [
    "# {}= set ()=tuple\n"
   ]
  },
  {
   "cell_type": "code",
   "execution_count": null,
   "id": "83f8c757",
   "metadata": {},
   "outputs": [],
   "source": []
  },
  {
   "cell_type": "markdown",
   "id": "e796c17d",
   "metadata": {},
   "source": [
    "VARIABLE ASSIGNMENT\n",
    "="
   ]
  },
  {
   "cell_type": "code",
   "execution_count": 12,
   "id": "a8b2ce50",
   "metadata": {},
   "outputs": [],
   "source": [
    "A=4\n",
    "B=17"
   ]
  },
  {
   "cell_type": "code",
   "execution_count": 15,
   "id": "7a661ed3",
   "metadata": {},
   "outputs": [
    {
     "data": {
      "text/plain": [
       "21"
      ]
     },
     "execution_count": 15,
     "metadata": {},
     "output_type": "execute_result"
    }
   ],
   "source": [
    "ZZ=A+B\n",
    "ZZ"
   ]
  },
  {
   "cell_type": "code",
   "execution_count": 21,
   "id": "3a2c9e78",
   "metadata": {},
   "outputs": [],
   "source": [
    "a=70\n",
    "b=30"
   ]
  },
  {
   "cell_type": "code",
   "execution_count": 23,
   "id": "95d53d4e",
   "metadata": {},
   "outputs": [],
   "source": [
    "c=a/2+b\n",
    "\n",
    "d=2*b+a\n",
    "\n",
    "\n"
   ]
  },
  {
   "cell_type": "code",
   "execution_count": 26,
   "id": "56684f6d",
   "metadata": {},
   "outputs": [
    {
     "data": {
      "text/plain": [
       "65.0"
      ]
     },
     "execution_count": 26,
     "metadata": {},
     "output_type": "execute_result"
    }
   ],
   "source": [
    "c"
   ]
  },
  {
   "cell_type": "code",
   "execution_count": 27,
   "id": "6db7f5ac",
   "metadata": {},
   "outputs": [
    {
     "data": {
      "text/plain": [
       "130"
      ]
     },
     "execution_count": 27,
     "metadata": {},
     "output_type": "execute_result"
    }
   ],
   "source": [
    "d"
   ]
  },
  {
   "cell_type": "code",
   "execution_count": null,
   "id": "ba7a9661",
   "metadata": {},
   "outputs": [],
   "source": []
  },
  {
   "cell_type": "markdown",
   "id": "88d4f4d2",
   "metadata": {},
   "source": [
    "PRINT \n",
    "="
   ]
  },
  {
   "cell_type": "code",
   "execution_count": null,
   "id": "faf6ce06",
   "metadata": {},
   "outputs": [],
   "source": [
    "its use to display output\n"
   ]
  },
  {
   "cell_type": "code",
   "execution_count": null,
   "id": "9176917d",
   "metadata": {},
   "outputs": [],
   "source": []
  },
  {
   "cell_type": "code",
   "execution_count": 28,
   "id": "25112aa3",
   "metadata": {},
   "outputs": [
    {
     "name": "stdout",
     "output_type": "stream",
     "text": [
      "i love my family\n"
     ]
    }
   ],
   "source": [
    "print('i love my family')"
   ]
  },
  {
   "cell_type": "code",
   "execution_count": 31,
   "id": "aa0e1613",
   "metadata": {},
   "outputs": [
    {
     "name": "stdout",
     "output_type": "stream",
     "text": [
      "ilove GOD \n",
      "He is the KING OF KINGS\n"
     ]
    }
   ],
   "source": [
    "#printing statement in the next line,we use {\\n} \n",
    "\n",
    "print('ilove GOD \\nHe is the KING OF KINGS')"
   ]
  },
  {
   "cell_type": "code",
   "execution_count": 32,
   "id": "f1bca33b",
   "metadata": {},
   "outputs": [],
   "source": [
    "a=10\n",
    "b=30"
   ]
  },
  {
   "cell_type": "code",
   "execution_count": 36,
   "id": "00f4416e",
   "metadata": {},
   "outputs": [
    {
     "data": {
      "text/plain": [
       "70"
      ]
     },
     "execution_count": 36,
     "metadata": {},
     "output_type": "execute_result"
    }
   ],
   "source": [
    "c=a/2+b\n",
    "\n",
    "d=2*b+a\n",
    "c\n",
    "d"
   ]
  },
  {
   "cell_type": "code",
   "execution_count": 37,
   "id": "d0472293",
   "metadata": {},
   "outputs": [
    {
     "name": "stdout",
     "output_type": "stream",
     "text": [
      "35.0 70\n"
     ]
    }
   ],
   "source": [
    "print(c,d)"
   ]
  },
  {
   "cell_type": "code",
   "execution_count": null,
   "id": "783af9e9",
   "metadata": {},
   "outputs": [],
   "source": []
  },
  {
   "cell_type": "code",
   "execution_count": 39,
   "id": "38501233",
   "metadata": {
    "scrolled": true
   },
   "outputs": [
    {
     "name": "stdout",
     "output_type": "stream",
     "text": [
      "my name is AJ\n",
      "I love watching football\n",
      "I also love music\n"
     ]
    }
   ],
   "source": [
    "print('my name is AJ\\nI love watching football\\nI also love music')"
   ]
  },
  {
   "cell_type": "code",
   "execution_count": null,
   "id": "d17855eb",
   "metadata": {},
   "outputs": [],
   "source": []
  },
  {
   "cell_type": "code",
   "execution_count": null,
   "id": "d1935018",
   "metadata": {},
   "outputs": [],
   "source": []
  },
  {
   "cell_type": "markdown",
   "id": "b55fdc2b",
   "metadata": {},
   "source": [
    "len() method\n",
    "="
   ]
  },
  {
   "cell_type": "code",
   "execution_count": 41,
   "id": "ddb1bb45",
   "metadata": {},
   "outputs": [],
   "source": [
    "course ='METEOROLOGY AND CLIMATE SCIENCE'\n"
   ]
  },
  {
   "cell_type": "code",
   "execution_count": 42,
   "id": "36128f23",
   "metadata": {},
   "outputs": [
    {
     "data": {
      "text/plain": [
       "31"
      ]
     },
     "execution_count": 42,
     "metadata": {},
     "output_type": "execute_result"
    }
   ],
   "source": [
    "len(course)"
   ]
  },
  {
   "cell_type": "code",
   "execution_count": 43,
   "id": "7f0bf39a",
   "metadata": {},
   "outputs": [
    {
     "data": {
      "text/plain": [
       "'M'"
      ]
     },
     "execution_count": 43,
     "metadata": {},
     "output_type": "execute_result"
    }
   ],
   "source": [
    "ourse[0]c"
   ]
  },
  {
   "cell_type": "code",
   "execution_count": 44,
   "id": "9951bda0",
   "metadata": {},
   "outputs": [
    {
     "data": {
      "text/plain": [
       "'E'"
      ]
     },
     "execution_count": 44,
     "metadata": {},
     "output_type": "execute_result"
    }
   ],
   "source": [
    "course[1]\n"
   ]
  },
  {
   "cell_type": "code",
   "execution_count": 45,
   "id": "2e53b15e",
   "metadata": {},
   "outputs": [
    {
     "data": {
      "text/plain": [
       "'ME'"
      ]
     },
     "execution_count": 45,
     "metadata": {},
     "output_type": "execute_result"
    }
   ],
   "source": [
    "course[0:2]"
   ]
  },
  {
   "cell_type": "code",
   "execution_count": 46,
   "id": "45d0af2b",
   "metadata": {},
   "outputs": [
    {
     "data": {
      "text/plain": [
       "'MET'"
      ]
     },
     "execution_count": 46,
     "metadata": {},
     "output_type": "execute_result"
    }
   ],
   "source": [
    "course[0:3]"
   ]
  },
  {
   "cell_type": "code",
   "execution_count": 49,
   "id": "0edc271b",
   "metadata": {},
   "outputs": [
    {
     "data": {
      "text/plain": [
       "'MTOOOYADCIAESINE'"
      ]
     },
     "execution_count": 49,
     "metadata": {},
     "output_type": "execute_result"
    }
   ],
   "source": [
    "course[::2]     #:: is used to pick character in a certain manner"
   ]
  },
  {
   "cell_type": "code",
   "execution_count": null,
   "id": "10e61ac7",
   "metadata": {},
   "outputs": [],
   "source": []
  },
  {
   "cell_type": "code",
   "execution_count": null,
   "id": "a9be1f37",
   "metadata": {},
   "outputs": [],
   "source": []
  },
  {
   "cell_type": "code",
   "execution_count": 50,
   "id": "1cc7bde5",
   "metadata": {},
   "outputs": [
    {
     "data": {
      "text/plain": [
       "'ERLG N LMT CEC'"
      ]
     },
     "execution_count": 50,
     "metadata": {},
     "output_type": "execute_result"
    }
   ],
   "source": [
    "course[3::2]  #starting from the third character in an even manner"
   ]
  },
  {
   "cell_type": "code",
   "execution_count": null,
   "id": "02d1e207",
   "metadata": {},
   "outputs": [],
   "source": []
  },
  {
   "cell_type": "markdown",
   "id": "7ce21a4e",
   "metadata": {},
   "source": [
    "concatenation\n",
    "---\n",
    "\n"
   ]
  },
  {
   "cell_type": "code",
   "execution_count": null,
   "id": "9ab9fb73",
   "metadata": {},
   "outputs": [],
   "source": []
  },
  {
   "cell_type": "code",
   "execution_count": 54,
   "id": "eecd395b",
   "metadata": {},
   "outputs": [],
   "source": [
    "a='METEOROLOGY '\n",
    "b=' AND '\n",
    "c=' CLIMATE'\n",
    "d=' SCIENCE'"
   ]
  },
  {
   "cell_type": "code",
   "execution_count": 55,
   "id": "b91167d6",
   "metadata": {},
   "outputs": [
    {
     "name": "stdout",
     "output_type": "stream",
     "text": [
      "METEOROLOGY  AND  CLIMATE SCIENCE\n"
     ]
    }
   ],
   "source": [
    "print(a+b+c+d)"
   ]
  },
  {
   "cell_type": "code",
   "execution_count": null,
   "id": "36d5fbc1",
   "metadata": {},
   "outputs": [],
   "source": []
  },
  {
   "cell_type": "code",
   "execution_count": 61,
   "id": "12c510fc",
   "metadata": {},
   "outputs": [
    {
     "name": "stdout",
     "output_type": "stream",
     "text": [
      "VOTE FOR RHODA AS THE BEST BUSSINESS WOMAN OF THE YEAR\n",
      "VOTE FOR RHODA AS THE BEST BUSSINESS WOMAN OF THE YEAR\n",
      "VOTE FOR RHODA AS THE BEST BUSSINESS WOMAN OF THE YEAR\n",
      "VOTE FOR RHODA AS THE BEST BUSSINESS WOMAN OF THE YEAR\n",
      "VOTE FOR RHODA AS THE BEST BUSSINESS WOMAN OF THE YEAR\n",
      "VOTE FOR RHODA AS THE BEST BUSSINESS WOMAN OF THE YEAR\n",
      "VOTE FOR RHODA AS THE BEST BUSSINESS WOMAN OF THE YEAR\n",
      "VOTE FOR RHODA AS THE BEST BUSSINESS WOMAN OF THE YEAR\n",
      "VOTE FOR RHODA AS THE BEST BUSSINESS WOMAN OF THE YEAR\n",
      "VOTE FOR RHODA AS THE BEST BUSSINESS WOMAN OF THE YEAR\n",
      "VOTE FOR RHODA AS THE BEST BUSSINESS WOMAN OF THE YEAR\n",
      "VOTE FOR RHODA AS THE BEST BUSSINESS WOMAN OF THE YEAR\n",
      "VOTE FOR RHODA AS THE BEST BUSSINESS WOMAN OF THE YEAR\n",
      "VOTE FOR RHODA AS THE BEST BUSSINESS WOMAN OF THE YEAR\n",
      "VOTE FOR RHODA AS THE BEST BUSSINESS WOMAN OF THE YEAR\n",
      "VOTE FOR RHODA AS THE BEST BUSSINESS WOMAN OF THE YEAR\n",
      "VOTE FOR RHODA AS THE BEST BUSSINESS WOMAN OF THE YEAR\n",
      "VOTE FOR RHODA AS THE BEST BUSSINESS WOMAN OF THE YEAR\n",
      "VOTE FOR RHODA AS THE BEST BUSSINESS WOMAN OF THE YEAR\n",
      "VOTE FOR RHODA AS THE BEST BUSSINESS WOMAN OF THE YEAR\n",
      "\n"
     ]
    }
   ],
   "source": [
    "print('VOTE FOR RHODA AS THE BEST BUSSINESS WOMAN OF THE YEAR\\n'*20)"
   ]
  },
  {
   "cell_type": "code",
   "execution_count": null,
   "id": "37b80689",
   "metadata": {},
   "outputs": [],
   "source": []
  },
  {
   "cell_type": "markdown",
   "id": "efd7954a",
   "metadata": {},
   "source": [
    "FORMATING STINGS\n",
    "---"
   ]
  },
  {
   "cell_type": "code",
   "execution_count": 62,
   "id": "ef9eb1ba",
   "metadata": {},
   "outputs": [],
   "source": [
    "a='Barcelona IS MY TEAM BUT I ALSO SUPPORT lEO IN PSG'"
   ]
  },
  {
   "cell_type": "code",
   "execution_count": null,
   "id": "f61b9dbb",
   "metadata": {},
   "outputs": [],
   "source": []
  },
  {
   "cell_type": "code",
   "execution_count": 64,
   "id": "26b5b197",
   "metadata": {},
   "outputs": [],
   "source": [
    "b=a.lower()"
   ]
  },
  {
   "cell_type": "code",
   "execution_count": 76,
   "id": "fea07511",
   "metadata": {},
   "outputs": [
    {
     "data": {
      "text/plain": [
       "'BARCELONA IS MY TEAM BUT I ALSO SUPPORT LEO IN PSG'"
      ]
     },
     "execution_count": 76,
     "metadata": {},
     "output_type": "execute_result"
    }
   ],
   "source": [
    "b"
   ]
  },
  {
   "cell_type": "code",
   "execution_count": 67,
   "id": "5df7c4fe",
   "metadata": {},
   "outputs": [],
   "source": [
    "o=a.upper()"
   ]
  },
  {
   "cell_type": "code",
   "execution_count": 68,
   "id": "4785c88b",
   "metadata": {},
   "outputs": [
    {
     "data": {
      "text/plain": [
       "'BARCELONA IS MY TEAM BUT I ALSO SUPPORT LEO IN PSG'"
      ]
     },
     "execution_count": 68,
     "metadata": {},
     "output_type": "execute_result"
    }
   ],
   "source": [
    "o"
   ]
  },
  {
   "cell_type": "code",
   "execution_count": 75,
   "id": "cb76cc3c",
   "metadata": {},
   "outputs": [
    {
     "data": {
      "text/plain": [
       "'Barcelona is my team but i also support leo in psg'"
      ]
     },
     "execution_count": 75,
     "metadata": {},
     "output_type": "execute_result"
    }
   ],
   "source": [
    "b.capitalize()"
   ]
  },
  {
   "cell_type": "code",
   "execution_count": null,
   "id": "5bb20718",
   "metadata": {},
   "outputs": [],
   "source": []
  },
  {
   "cell_type": "code",
   "execution_count": 70,
   "id": "ef669938",
   "metadata": {},
   "outputs": [
    {
     "data": {
      "text/plain": [
       "['BARCELONA',\n",
       " 'IS',\n",
       " 'MY',\n",
       " 'TEAM',\n",
       " 'BUT',\n",
       " 'I',\n",
       " 'ALSO',\n",
       " 'SUPPORT',\n",
       " 'LEO',\n",
       " 'IN',\n",
       " 'PSG']"
      ]
     },
     "execution_count": 70,
     "metadata": {},
     "output_type": "execute_result"
    }
   ],
   "source": [
    "b.split()"
   ]
  },
  {
   "cell_type": "code",
   "execution_count": null,
   "id": "823080c7",
   "metadata": {},
   "outputs": [],
   "source": []
  },
  {
   "cell_type": "code",
   "execution_count": null,
   "id": "4beb5b08",
   "metadata": {},
   "outputs": [],
   "source": []
  },
  {
   "cell_type": "code",
   "execution_count": 81,
   "id": "1556a8fa",
   "metadata": {},
   "outputs": [],
   "source": [
    "l='i need thee'"
   ]
  },
  {
   "cell_type": "code",
   "execution_count": 82,
   "id": "a09f5ae2",
   "metadata": {},
   "outputs": [
    {
     "data": {
      "text/plain": [
       "'i need you'"
      ]
     },
     "execution_count": 82,
     "metadata": {},
     "output_type": "execute_result"
    }
   ],
   "source": [
    "l.replace('thee','you')"
   ]
  },
  {
   "cell_type": "code",
   "execution_count": null,
   "id": "9b7ec2e4",
   "metadata": {},
   "outputs": [],
   "source": []
  },
  {
   "cell_type": "code",
   "execution_count": 91,
   "id": "6864065f",
   "metadata": {},
   "outputs": [],
   "source": [
    "first ='welcome to the {year} {prog} organized by {organizers}'.format(year=2025,prog='c++ programming ',organizers='OneQuantumGhana') "
   ]
  },
  {
   "cell_type": "code",
   "execution_count": 92,
   "id": "fb0bd33a",
   "metadata": {},
   "outputs": [
    {
     "data": {
      "text/plain": [
       "'welcome to the 2025 c++ programming  organized by OneQuantumGhana'"
      ]
     },
     "execution_count": 92,
     "metadata": {},
     "output_type": "execute_result"
    }
   ],
   "source": [
    "first"
   ]
  },
  {
   "cell_type": "code",
   "execution_count": null,
   "id": "7e33d864",
   "metadata": {},
   "outputs": [],
   "source": []
  },
  {
   "cell_type": "code",
   "execution_count": 93,
   "id": "d962cf22",
   "metadata": {},
   "outputs": [],
   "source": [
    "first ='welcome to the {} {prog} organized by {organizers}'.format(2025,prog='c++ programming',organizers='OneQuantumGhana') "
   ]
  },
  {
   "cell_type": "code",
   "execution_count": 94,
   "id": "7e3f1504",
   "metadata": {},
   "outputs": [
    {
     "data": {
      "text/plain": [
       "'welcome to the 2025 c++ programming organized by OneQuantumGhana'"
      ]
     },
     "execution_count": 94,
     "metadata": {},
     "output_type": "execute_result"
    }
   ],
   "source": [
    "first"
   ]
  },
  {
   "cell_type": "code",
   "execution_count": null,
   "id": "9c4b12f2",
   "metadata": {},
   "outputs": [],
   "source": []
  },
  {
   "cell_type": "markdown",
   "id": "bc9a1b44",
   "metadata": {},
   "source": [
    "basic arithmetic\n",
    "="
   ]
  },
  {
   "cell_type": "code",
   "execution_count": 95,
   "id": "d6c02721",
   "metadata": {},
   "outputs": [
    {
     "data": {
      "text/plain": [
       "3"
      ]
     },
     "execution_count": 95,
     "metadata": {},
     "output_type": "execute_result"
    }
   ],
   "source": [
    "\n",
    "#floor division gives u the whole part of a number\n",
    "7//2"
   ]
  },
  {
   "cell_type": "code",
   "execution_count": null,
   "id": "c69a1ef4",
   "metadata": {},
   "outputs": [],
   "source": []
  },
  {
   "cell_type": "code",
   "execution_count": null,
   "id": "2c4b7eda",
   "metadata": {},
   "outputs": [],
   "source": []
  },
  {
   "cell_type": "code",
   "execution_count": null,
   "id": "e518715b",
   "metadata": {},
   "outputs": [],
   "source": []
  },
  {
   "cell_type": "code",
   "execution_count": null,
   "id": "5dc25d60",
   "metadata": {},
   "outputs": [],
   "source": []
  },
  {
   "cell_type": "code",
   "execution_count": null,
   "id": "28461447",
   "metadata": {},
   "outputs": [],
   "source": []
  },
  {
   "cell_type": "code",
   "execution_count": null,
   "id": "49309c11",
   "metadata": {},
   "outputs": [],
   "source": []
  },
  {
   "cell_type": "markdown",
   "id": "b5716a80",
   "metadata": {},
   "source": [
    "BOOLEAN\n",
    "="
   ]
  },
  {
   "cell_type": "code",
   "execution_count": 96,
   "id": "d53d5585",
   "metadata": {},
   "outputs": [
    {
     "data": {
      "text/plain": [
       "False"
      ]
     },
     "execution_count": 96,
     "metadata": {},
     "output_type": "execute_result"
    }
   ],
   "source": [
    "2>75"
   ]
  },
  {
   "cell_type": "code",
   "execution_count": null,
   "id": "55bd6c92",
   "metadata": {},
   "outputs": [],
   "source": []
  },
  {
   "cell_type": "code",
   "execution_count": 97,
   "id": "c51e82ba",
   "metadata": {},
   "outputs": [
    {
     "data": {
      "text/plain": [
       "False"
      ]
     },
     "execution_count": 97,
     "metadata": {},
     "output_type": "execute_result"
    }
   ],
   "source": [
    "11.2==11.22"
   ]
  },
  {
   "cell_type": "code",
   "execution_count": 100,
   "id": "ddd32fa2",
   "metadata": {},
   "outputs": [
    {
     "data": {
      "text/plain": [
       "bool"
      ]
     },
     "execution_count": 100,
     "metadata": {},
     "output_type": "execute_result"
    }
   ],
   "source": [
    "type(12<1)"
   ]
  },
  {
   "cell_type": "code",
   "execution_count": null,
   "id": "76dc4e01",
   "metadata": {},
   "outputs": [],
   "source": []
  },
  {
   "cell_type": "code",
   "execution_count": null,
   "id": "d520c665",
   "metadata": {},
   "outputs": [],
   "source": []
  },
  {
   "cell_type": "markdown",
   "id": "6d2c3e0f",
   "metadata": {},
   "source": [
    "dictionary\n",
    "=="
   ]
  },
  {
   "cell_type": "code",
   "execution_count": null,
   "id": "05f58943",
   "metadata": {},
   "outputs": [],
   "source": []
  },
  {
   "cell_type": "code",
   "execution_count": 103,
   "id": "7c17ab89",
   "metadata": {},
   "outputs": [],
   "source": [
    "a={'name':'AJ', \n",
    "   'country':'Ghana',\n",
    "   'sex':'Male',\n",
    "   'contact':'0546581841'\n",
    "   \n",
    "    }"
   ]
  },
  {
   "cell_type": "code",
   "execution_count": 104,
   "id": "f6d70b64",
   "metadata": {},
   "outputs": [
    {
     "data": {
      "text/plain": [
       "{'name': 'AJ', 'country': 'Ghana', 'sex': 'Male', 'contact': '0546581841'}"
      ]
     },
     "execution_count": 104,
     "metadata": {},
     "output_type": "execute_result"
    }
   ],
   "source": [
    "a\n"
   ]
  },
  {
   "cell_type": "code",
   "execution_count": 105,
   "id": "1a49cc9d",
   "metadata": {},
   "outputs": [
    {
     "data": {
      "text/plain": [
       "dict"
      ]
     },
     "execution_count": 105,
     "metadata": {},
     "output_type": "execute_result"
    }
   ],
   "source": [
    "type(a)"
   ]
  },
  {
   "cell_type": "code",
   "execution_count": null,
   "id": "b4540651",
   "metadata": {},
   "outputs": [],
   "source": []
  },
  {
   "cell_type": "code",
   "execution_count": null,
   "id": "421180f7",
   "metadata": {},
   "outputs": [],
   "source": []
  },
  {
   "cell_type": "markdown",
   "id": "f4be0a7f",
   "metadata": {},
   "source": [
    "COMPARE\n",
    "=="
   ]
  },
  {
   "cell_type": "code",
   "execution_count": null,
   "id": "4b0e42a6",
   "metadata": {},
   "outputs": [],
   "source": []
  },
  {
   "cell_type": "code",
   "execution_count": 106,
   "id": "f56b4a08",
   "metadata": {},
   "outputs": [
    {
     "data": {
      "text/plain": [
       "True"
      ]
     },
     "execution_count": 106,
     "metadata": {},
     "output_type": "execute_result"
    }
   ],
   "source": [
    "2<=10\n"
   ]
  },
  {
   "cell_type": "code",
   "execution_count": null,
   "id": "2182b478",
   "metadata": {},
   "outputs": [],
   "source": []
  },
  {
   "cell_type": "code",
   "execution_count": 108,
   "id": "953f4fa3",
   "metadata": {},
   "outputs": [
    {
     "data": {
      "text/plain": [
       "False"
      ]
     },
     "execution_count": 108,
     "metadata": {},
     "output_type": "execute_result"
    }
   ],
   "source": [
    "(5<2)&(5>3)"
   ]
  },
  {
   "cell_type": "code",
   "execution_count": null,
   "id": "0982a6d2",
   "metadata": {},
   "outputs": [],
   "source": []
  },
  {
   "cell_type": "code",
   "execution_count": null,
   "id": "2a97dc68",
   "metadata": {},
   "outputs": [],
   "source": []
  },
  {
   "cell_type": "markdown",
   "id": "995da7bd",
   "metadata": {},
   "source": [
    "one way decision\n",
    "=="
   ]
  },
  {
   "cell_type": "code",
   "execution_count": null,
   "id": "8fb5035e",
   "metadata": {},
   "outputs": [],
   "source": []
  },
  {
   "cell_type": "code",
   "execution_count": 109,
   "id": "7b40999a",
   "metadata": {},
   "outputs": [],
   "source": [
    "X=5"
   ]
  },
  {
   "cell_type": "code",
   "execution_count": 118,
   "id": "2ca0532b",
   "metadata": {},
   "outputs": [
    {
     "name": "stdout",
     "output_type": "stream",
     "text": [
      "X equals 5\n"
     ]
    }
   ],
   "source": [
    "if X==5:\n",
    "    print('X equals 5')"
   ]
  },
  {
   "cell_type": "code",
   "execution_count": 116,
   "id": "6c8870ef",
   "metadata": {},
   "outputs": [
    {
     "name": "stdout",
     "output_type": "stream",
     "text": [
      "X is greater than 4\n"
     ]
    }
   ],
   "source": [
    "if X>4:\n",
    "    print('X is greater than 4')"
   ]
  },
  {
   "cell_type": "code",
   "execution_count": null,
   "id": "244bdf19",
   "metadata": {},
   "outputs": [],
   "source": []
  },
  {
   "cell_type": "code",
   "execution_count": 120,
   "id": "fdef17d0",
   "metadata": {},
   "outputs": [
    {
     "name": "stdout",
     "output_type": "stream",
     "text": [
      "X is not equal to 4\n"
     ]
    }
   ],
   "source": [
    "if X!=4:\n",
    "    print('X is not equal to 4')"
   ]
  },
  {
   "cell_type": "code",
   "execution_count": null,
   "id": "dca54821",
   "metadata": {},
   "outputs": [],
   "source": []
  },
  {
   "cell_type": "code",
   "execution_count": 114,
   "id": "e1b9c465",
   "metadata": {},
   "outputs": [],
   "source": [
    "if X==6:\n",
    "    print('X equals is not 5')"
   ]
  },
  {
   "cell_type": "code",
   "execution_count": 121,
   "id": "a16de9da",
   "metadata": {},
   "outputs": [
    {
     "name": "stdout",
     "output_type": "stream",
     "text": [
      "enter your passwordlord \n"
     ]
    },
    {
     "data": {
      "text/plain": [
       "'lord '"
      ]
     },
     "execution_count": 121,
     "metadata": {},
     "output_type": "execute_result"
    }
   ],
   "source": [
    "# input\n",
    "\n",
    "input('enter your password')"
   ]
  },
  {
   "cell_type": "code",
   "execution_count": null,
   "id": "5fd9a159",
   "metadata": {},
   "outputs": [],
   "source": []
  },
  {
   "cell_type": "code",
   "execution_count": 122,
   "id": "642b0302",
   "metadata": {},
   "outputs": [
    {
     "name": "stdout",
     "output_type": "stream",
     "text": [
      "enter a your name: JAMES AMTWI\n",
      " I don't know you please\n",
      "Two decision execution complete\n",
      "####################################\n",
      "Next is Multiple Decision\n"
     ]
    }
   ],
   "source": [
    "Name = input(\"enter a your name: \")\n",
    "if Name == 'John':\n",
    "    print(\"You are welcome\",Name)    \n",
    "else:\n",
    "    print (\" I don't know you please\")\n",
    "    \n",
    "    \n",
    "    \n",
    "    \n",
    "    print(\"Two decision execution complete\")\n",
    "print(\"####################################\")\n",
    "print(\"Next is Multiple Decision\")\n",
    "    \n",
    "    \n",
    "    "
   ]
  },
  {
   "cell_type": "markdown",
   "id": "49885a67",
   "metadata": {},
   "source": []
  },
  {
   "cell_type": "code",
   "execution_count": 127,
   "id": "d0dd2004",
   "metadata": {},
   "outputs": [
    {
     "name": "stdout",
     "output_type": "stream",
     "text": [
      "enter a your name of the food: Jollof\n",
      "thank you,input your room number for delivery\n",
      "####################################\n",
      "Next is Multiple Decision\n"
     ]
    }
   ],
   "source": [
    "Name = input(\"enter a your name of the food: \")\n",
    "if Name == 'Jollof':\n",
    "    print(\"thank you,input your room number for delivery\",)    \n",
    "else:\n",
    "    print (\"food not available\")\n",
    "    \n",
    "    \n",
    "    \n",
    "    \n",
    "    print(\"Two decision execution complete\")\n",
    "print(\"####################################\")\n",
    "print(\"Next is Multiple Decision\")\n",
    "    "
   ]
  },
  {
   "cell_type": "code",
   "execution_count": null,
   "id": "efb71835",
   "metadata": {},
   "outputs": [],
   "source": []
  },
  {
   "cell_type": "code",
   "execution_count": null,
   "id": "2e2c7174",
   "metadata": {},
   "outputs": [],
   "source": []
  },
  {
   "cell_type": "markdown",
   "id": "4d7d68f6",
   "metadata": {},
   "source": [
    "nested loop\n",
    "="
   ]
  },
  {
   "cell_type": "code",
   "execution_count": null,
   "id": "23c90bb8",
   "metadata": {},
   "outputs": [],
   "source": []
  },
  {
   "cell_type": "code",
   "execution_count": 130,
   "id": "81d1d6ff",
   "metadata": {},
   "outputs": [
    {
     "name": "stdout",
     "output_type": "stream",
     "text": [
      "\tStudent scored a passing grade\n"
     ]
    }
   ],
   "source": [
    "grade = 61\n",
    "if grade > 60:\n",
    "    print(\"\\tStudent scored a passing grade\")\n",
    "    if grade >= 90:\n",
    "        print(\"\\tpassed with A\")\n",
    "        if grade >= 96:\n",
    "            print(\"\\tpassed with A+\")"
   ]
  },
  {
   "cell_type": "code",
   "execution_count": null,
   "id": "e7a5d929",
   "metadata": {},
   "outputs": [],
   "source": []
  },
  {
   "cell_type": "code",
   "execution_count": 146,
   "id": "a64b7358",
   "metadata": {},
   "outputs": [
    {
     "name": "stdout",
     "output_type": "stream",
     "text": [
      "enter your grade please180\n",
      "you have failed\n"
     ]
    }
   ],
   "source": [
    "grade=int(input('enter your grade please'))\n",
    "if grade>=70 and grade<=100:\n",
    "    print('A')\n",
    "elif grade>=60 and grade <70:\n",
    "    print('B')\n",
    "elif grade>=40 and grade <59:\n",
    "    print('c')\n",
    "else:\n",
    "    print('you have failed')"
   ]
  },
  {
   "cell_type": "code",
   "execution_count": null,
   "id": "f520e0c9",
   "metadata": {},
   "outputs": [],
   "source": []
  },
  {
   "cell_type": "code",
   "execution_count": null,
   "id": "d5386ba4",
   "metadata": {},
   "outputs": [],
   "source": []
  },
  {
   "cell_type": "code",
   "execution_count": null,
   "id": "344a72bc",
   "metadata": {},
   "outputs": [],
   "source": []
  },
  {
   "cell_type": "code",
   "execution_count": null,
   "id": "b9475486",
   "metadata": {},
   "outputs": [],
   "source": []
  },
  {
   "cell_type": "code",
   "execution_count": null,
   "id": "c28c3d5b",
   "metadata": {},
   "outputs": [],
   "source": []
  },
  {
   "cell_type": "code",
   "execution_count": null,
   "id": "0ce129e8",
   "metadata": {},
   "outputs": [],
   "source": []
  },
  {
   "cell_type": "code",
   "execution_count": null,
   "id": "72b207f7",
   "metadata": {},
   "outputs": [],
   "source": []
  },
  {
   "cell_type": "code",
   "execution_count": null,
   "id": "ffcabafc",
   "metadata": {},
   "outputs": [],
   "source": []
  },
  {
   "cell_type": "code",
   "execution_count": null,
   "id": "a20e7717",
   "metadata": {},
   "outputs": [],
   "source": []
  },
  {
   "cell_type": "code",
   "execution_count": null,
   "id": "15807a6a",
   "metadata": {},
   "outputs": [],
   "source": []
  },
  {
   "cell_type": "code",
   "execution_count": null,
   "id": "721d5364",
   "metadata": {},
   "outputs": [],
   "source": []
  },
  {
   "cell_type": "code",
   "execution_count": null,
   "id": "9ffe38db",
   "metadata": {},
   "outputs": [],
   "source": []
  }
 ],
 "metadata": {
  "kernelspec": {
   "display_name": "Python 3 (ipykernel)",
   "language": "python",
   "name": "python3"
  },
  "language_info": {
   "codemirror_mode": {
    "name": "ipython",
    "version": 3
   },
   "file_extension": ".py",
   "mimetype": "text/x-python",
   "name": "python",
   "nbconvert_exporter": "python",
   "pygments_lexer": "ipython3",
   "version": "3.9.12"
  }
 },
 "nbformat": 4,
 "nbformat_minor": 5
}
