{
 "cells": [
  {
   "cell_type": "markdown",
   "id": "3abdb61d",
   "metadata": {},
   "source": [
    "task 3\n",
    "="
   ]
  },
  {
   "cell_type": "markdown",
   "id": "daabf08b",
   "metadata": {},
   "source": [
    "Task 3\n",
    "Build an emulator, based on decision-making and iterations in Python, that mimicks how ATMs (Automated Teller Machines) work.\n",
    "Greet the user and ask him what operation he likes to perform.\n",
    "\n",
    "Prompt the customer to input his/her ATM pin, which will be verified.\n",
    "\n",
    "For 3 wrong attempts, break out of the loop and prompt the user that his card has been blocked. Prompt him to visit the nearest branch for further authentication.\n",
    "\n",
    "If a correct pin is entered at any instance in the 3 allowed attempts, prompt the user that 'He/She is welcome'. Prompt her to logout when done with her activity. (Allow him/her to type in a given character when done).\n",
    "\n",
    "Once the right character is entered\n",
    "\n",
    "="
   ]
  },
  {
   "cell_type": "code",
   "execution_count": null,
   "id": "735f613b",
   "metadata": {
    "scrolled": true
   },
   "outputs": [
    {
     "name": "stdout",
     "output_type": "stream",
     "text": [
      "Hello,Welcome to GROUP3 Bank\n"
     ]
    }
   ],
   "source": [
    "print('Hello,Welcome to GROUP3 Bank')\n",
    "Num_attempts=3\n",
    "usercode=9787\n",
    "\n",
    "while Num_attempts !=0:\n",
    "    Pin = int(input('Please enter your pin number')) \n",
    "    if Pin !=usercode:\n",
    "        Num_attempts -= 1\n",
    "        print('Invalid pin,\\nYou have',Num_attempts,'Trials left')\n",
    "        if Num_attempts == 0:\n",
    "            print('This card has been blocked,\\n please visit the nearest branch for further authentication')\n",
    "    else:\n",
    "        Userchoice = input('d: Deposit or w: Withdraw')\n",
    "        if Userchoice == 'd':\n",
    "            UserDeposit = input('Enter amount you would like to deposit:')\n",
    "            print('GHC',UserDeposit ,'has been deposited into your account')\n",
    "        if Userchoice == 'w':\n",
    "            UserWithdraw = input('Enter the amount you would like to withdraw:')\n",
    "            print('GHC',UserWithdraw,'has been withdrawn from your account')\n",
    "        UserExit = input('would you like to continue? Y/N: ')\n",
    "        if UserExit == 'N'or UserExit=='n':\n",
    "            print('Thank you for using GROUP3 BANK')\n",
    "            break\n",
    "        \n",
    "\n",
    "        \n",
    "        \n",
    "        \n",
    "    "
   ]
  },
  {
   "cell_type": "markdown",
   "id": "59a26cdc",
   "metadata": {},
   "source": []
  },
  {
   "cell_type": "code",
   "execution_count": null,
   "id": "0505b7ce",
   "metadata": {},
   "outputs": [],
   "source": [
    "''' print('Hello,Welcom to GROUP3 Bank')\n",
    "Num_attempts=3\n",
    "usercode=9787\n",
    "\n",
    "while Num_attempts !=0:\n",
    "    Pin = int(input('Please enter your pin number')) \n",
    "    if Pin !=usercode:\n",
    "        Num_attempts -= 1\n",
    "        print('Invalid pin,\\nYou have',Num_attempts,'Trials left')\n",
    "    else:\n",
    "        Userchoice = input('d: Deposit or w: Withdraw')\n",
    "        if Userchoice == 'd':\n",
    "            UserDeposit = input('Enter amount you would like to deposit:')\n",
    "            print(UserDeposit,'cedis has been deposited into your account')\n",
    "        if Userchoice == 'w':\n",
    "            UserWithdraw = input('Enter the amount you would like to withdraw:')\n",
    "            print(UserWithdraw,'cedis has been withdrawn from your account')\n",
    "        UserExit = input('would you like to continue? Y/N: ')\n",
    "        if UserExit == 'N'or UserExit=='n':\n",
    "            print('Thank you for using GROUP3 BANK')\n",
    "            break\n",
    " '''       \n",
    "        \n",
    "        "
   ]
  },
  {
   "cell_type": "code",
   "execution_count": null,
   "id": "7476ea65",
   "metadata": {},
   "outputs": [],
   "source": []
  }
 ],
 "metadata": {
  "kernelspec": {
   "display_name": "Python 3 (ipykernel)",
   "language": "python",
   "name": "python3"
  },
  "language_info": {
   "codemirror_mode": {
    "name": "ipython",
    "version": 3
   },
   "file_extension": ".py",
   "mimetype": "text/x-python",
   "name": "python",
   "nbconvert_exporter": "python",
   "pygments_lexer": "ipython3",
   "version": "3.9.12"
  }
 },
 "nbformat": 4,
 "nbformat_minor": 5
}
